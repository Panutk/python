{
  "nbformat": 4,
  "nbformat_minor": 0,
  "metadata": {
    "colab": {
      "provenance": [],
      "authorship_tag": "ABX9TyM8OJBrQECIPolfykhlFdyF",
      "include_colab_link": true
    },
    "kernelspec": {
      "name": "python3",
      "display_name": "Python 3"
    },
    "language_info": {
      "name": "python"
    }
  },
  "cells": [
    {
      "cell_type": "markdown",
      "metadata": {
        "id": "view-in-github",
        "colab_type": "text"
      },
      "source": [
        "<a href=\"https://colab.research.google.com/github/Panutk/python/blob/main/RomanToInt.ipynb\" target=\"_parent\"><img src=\"https://colab.research.google.com/assets/colab-badge.svg\" alt=\"Open In Colab\"/></a>"
      ]
    },
    {
      "cell_type": "code",
      "execution_count": null,
      "metadata": {
        "colab": {
          "base_uri": "https://localhost:8080/"
        },
        "id": "kKeDloNxeOUD",
        "outputId": "4e590623-af22-49c6-b14e-382f02aa1e27"
      },
      "outputs": [
        {
          "output_type": "stream",
          "name": "stdout",
          "text": [
            "LD\n",
            "450\n"
          ]
        }
      ],
      "source": [
        "def roman_to_int (str):\n",
        "  dict = {'I':1,'v':5,'X':10,'L':50,'C':100,'D':500,'M':1000}\n",
        "  sum = 0\n",
        "  i = 0\n",
        "  while i < (len(str)):\n",
        "    if i != len(str)-1 and dict[str[i]] < dict[str[i+1]]:\n",
        "      sum += dict[str[i+1]] - dict[str[i]]\n",
        "      i+=1\n",
        "    return sum\n",
        "\n",
        "str = input()\n",
        "\n",
        "out_ = roman_to_int\n",
        "(str)\n",
        "print(out_)"
      ]
    }
  ]
}