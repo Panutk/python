{
  "nbformat": 4,
  "nbformat_minor": 0,
  "metadata": {
    "colab": {
      "provenance": [],
      "authorship_tag": "ABX9TyOjlAe2ymDA4DgvPafggS/a",
      "include_colab_link": true
    },
    "kernelspec": {
      "name": "python3",
      "display_name": "Python 3"
    },
    "language_info": {
      "name": "python"
    }
  },
  "cells": [
    {
      "cell_type": "markdown",
      "metadata": {
        "id": "view-in-github",
        "colab_type": "text"
      },
      "source": [
        "<a href=\"https://colab.research.google.com/github/Panutk/python/blob/main/problem.ipynb\" target=\"_parent\"><img src=\"https://colab.research.google.com/assets/colab-badge.svg\" alt=\"Open In Colab\"/></a>"
      ]
    },
    {
      "cell_type": "markdown",
      "source": [
        "Given an array arr, find the first missing positive number in the array without creating another array"
      ],
      "metadata": {
        "id": "Blrr53LLf-on"
      }
    },
    {
      "cell_type": "code",
      "source": [
        "def missing_pos (n,arr):\n",
        "  chk = 0\n",
        "  for i in range(len(arr)):\n",
        "    if arr[i]==1:\n",
        "      chk+=1\n",
        "    if arr[i]<=0:\n",
        "      arr[i]=1\n",
        "  if chk == 0:\n",
        "    return 1\n",
        "  for i in range(len(arr)):\n",
        "    val = abs(arr[i]-1)\n",
        "    if val>=0 and val<len(arr):\n",
        "      arr[val] = -1 *abs(arr[val])\n",
        "  for i in range(len(arr)):\n",
        "    if arr[i] > 0:\n",
        "      return i+1\n",
        "  return len(arr)+1\n",
        "\n",
        "n = int(input())\n",
        "arr = map(int, input().split())\n",
        "\n",
        "out_ = missing_pos(n,arr)\n",
        "print(out_)"
      ],
      "metadata": {
        "id": "-MEExcRRuQEj"
      },
      "execution_count": null,
      "outputs": []
    }
  ]
}