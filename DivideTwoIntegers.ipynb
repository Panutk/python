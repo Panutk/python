{
  "nbformat": 4,
  "nbformat_minor": 0,
  "metadata": {
    "colab": {
      "provenance": [],
      "authorship_tag": "ABX9TyNdwyJjACqxtJwlNFfzhSAe",
      "include_colab_link": true
    },
    "kernelspec": {
      "name": "python3",
      "display_name": "Python 3"
    },
    "language_info": {
      "name": "python"
    }
  },
  "cells": [
    {
      "cell_type": "markdown",
      "metadata": {
        "id": "view-in-github",
        "colab_type": "text"
      },
      "source": [
        "<a href=\"https://colab.research.google.com/github/Panutk/python/blob/main/DivideTwoIntegers.ipynb\" target=\"_parent\"><img src=\"https://colab.research.google.com/assets/colab-badge.svg\" alt=\"Open In Colab\"/></a>"
      ]
    },
    {
      "cell_type": "code",
      "execution_count": 6,
      "metadata": {
        "colab": {
          "base_uri": "https://localhost:8080/"
        },
        "id": "xgME9Z0lf4KL",
        "outputId": "dfb61572-3fe8-4683-a37f-a32c836b90cf"
      },
      "outputs": [
        {
          "output_type": "stream",
          "name": "stdout",
          "text": [
            "22\n",
            "7\n",
            "3\n"
          ]
        }
      ],
      "source": [
        "def divide_well(dividend, divisor):\n",
        "\n",
        "  quotient = 0\n",
        "  n = dividend\n",
        "  d = divisor\n",
        "  dividend_sign = 0\n",
        "  divisor_sign = 0\n",
        "  if n < 0:\n",
        "    dividend_sign = 1\n",
        "    n = -n\n",
        "  if d < 0 :\n",
        "    divisor_sign = 1\n",
        "\n",
        "    divisor = -divisor\n",
        "  while n >= divisor:\n",
        "    d = divisor\n",
        "    q = 1\n",
        "    while n >= d:\n",
        "      last_q = q\n",
        "      ld = d\n",
        "      d += d\n",
        "      q += q\n",
        "      quotient += last_q\n",
        "      n -= ld\n",
        "    if dividend_sign != divisor_sign:\n",
        "      quotient = -quotient\n",
        "    return quotient\n",
        "\n",
        "dividend = int(input())\n",
        "divisor = int(input())\n",
        "\n",
        "out_ = divide_well(dividend, divisor)\n",
        "print(out_)"
      ]
    }
  ]
}