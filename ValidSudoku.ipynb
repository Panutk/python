{
  "nbformat": 4,
  "nbformat_minor": 0,
  "metadata": {
    "colab": {
      "provenance": [],
      "authorship_tag": "ABX9TyOAMbEIBmvKWNPiVe22gO4V",
      "include_colab_link": true
    },
    "kernelspec": {
      "name": "python3",
      "display_name": "Python 3"
    },
    "language_info": {
      "name": "python"
    }
  },
  "cells": [
    {
      "cell_type": "markdown",
      "metadata": {
        "id": "view-in-github",
        "colab_type": "text"
      },
      "source": [
        "<a href=\"https://colab.research.google.com/github/Panutk/python/blob/main/ValidSudoku.ipynb\" target=\"_parent\"><img src=\"https://colab.research.google.com/assets/colab-badge.svg\" alt=\"Open In Colab\"/></a>"
      ]
    },
    {
      "cell_type": "code",
      "execution_count": null,
      "metadata": {
        "id": "N-a5aa3prXEA"
      },
      "outputs": [],
      "source": [
        "def is_valid (arr):\n",
        "  row = [[0 for i in range(9)] for i in range(9)]\n",
        "  col = [[0 for i in range(9)] for i in range(9)]\n",
        "  box = [[0 for i in range(9)] for i in range(9)]\n",
        "  for i in range(9):\n",
        "    for j in range(9):\n",
        "      if arr[i][j] != -1:\n",
        "        value = arr[i][j] - 1\n",
        "        boxno = 3*(i/3) + (j/3)\n",
        "        if row[i][value]==1 or col[j][value]==1 or box[boxno][value] ==1:\n",
        "          return 0\n",
        "        row[i][value] = 1\n",
        "        col[j][value] = 1\n",
        "        box[boxno][value] = 1\n",
        "  return 1\n",
        "\n",
        "arr = []\n",
        "for _ in range(9):\n",
        "  arr.append(map(int, input().split()))\n",
        "\n",
        "out_ = is_valid(arr)\n",
        "print(out_)"
      ]
    }
  ]
}