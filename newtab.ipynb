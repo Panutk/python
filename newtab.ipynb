{
  "nbformat": 4,
  "nbformat_minor": 0,
  "metadata": {
    "colab": {
      "provenance": [],
      "authorship_tag": "ABX9TyPd+lhycNA2NSTW+DilYOaW",
      "include_colab_link": true
    },
    "kernelspec": {
      "name": "python3",
      "display_name": "Python 3"
    },
    "language_info": {
      "name": "python"
    }
  },
  "cells": [
    {
      "cell_type": "markdown",
      "metadata": {
        "id": "view-in-github",
        "colab_type": "text"
      },
      "source": [
        "<a href=\"https://colab.research.google.com/github/Panutk/python/blob/main/newtab.ipynb\" target=\"_parent\"><img src=\"https://colab.research.google.com/assets/colab-badge.svg\" alt=\"Open In Colab\"/></a>"
      ]
    },
    {
      "cell_type": "markdown",
      "source": [
        "basic"
      ],
      "metadata": {
        "id": "anlh-xIJVZjJ"
      }
    },
    {
      "cell_type": "code",
      "source": [
        "mynumber = 3\n",
        "print(mynumber)\n",
        "mynumber2 = 4.5\n",
        "print(mynumber2)\n",
        "mynumber = \"python coding\"\n",
        "print(mynumber)"
      ],
      "metadata": {
        "colab": {
          "base_uri": "https://localhost:8080/"
        },
        "id": "5Jcbhc7rViKu",
        "outputId": "cbfb27eb-27e4-4291-a520-72014c73e476"
      },
      "execution_count": null,
      "outputs": [
        {
          "output_type": "stream",
          "name": "stdout",
          "text": [
            "3\n",
            "4.5\n",
            "python coding\n"
          ]
        }
      ]
    },
    {
      "cell_type": "code",
      "source": [
        "nums = []\n",
        "nums.append(21)\n",
        "nums.append(40.5)\n",
        "nums.append(\"string\")\n",
        "print(nums)"
      ],
      "metadata": {
        "colab": {
          "base_uri": "https://localhost:8080/"
        },
        "id": "7Rd5eGvpWTEc",
        "outputId": "1d83399b-8d0b-4793-8b7c-9965161bc143"
      },
      "execution_count": null,
      "outputs": [
        {
          "output_type": "stream",
          "name": "stdout",
          "text": [
            "[21, 40.5, 'string']\n"
          ]
        }
      ]
    },
    {
      "cell_type": "code",
      "source": [
        "name = input(\"Enter your name:\")\n",
        "print(\"hello\",name)"
      ],
      "metadata": {
        "colab": {
          "base_uri": "https://localhost:8080/"
        },
        "id": "RCKfVqc2W389",
        "outputId": "26835aeb-cb3a-4917-f469-d7a065ec336a"
      },
      "execution_count": null,
      "outputs": [
        {
          "output_type": "stream",
          "name": "stdout",
          "text": [
            "Enter your name:utkarsh\n",
            "hello utkarsh\n"
          ]
        }
      ]
    },
    {
      "cell_type": "code",
      "source": [
        "num1 = int(input(\"Enter num1: \"))\n",
        "num2 = int(input(\"Enter num2: \"))\n",
        "num3 = num1*num2\n",
        "print(\"Product is: \", num3)"
      ],
      "metadata": {
        "colab": {
          "base_uri": "https://localhost:8080/"
        },
        "id": "HDE09RtxXIdJ",
        "outputId": "456b9340-4095-4549-c768-c62e5994cb3b"
      },
      "execution_count": null,
      "outputs": [
        {
          "output_type": "stream",
          "name": "stdout",
          "text": [
            "Enter num1: 25\n",
            "Enter num2: 12\n",
            "Product is:  300\n"
          ]
        }
      ]
    },
    {
      "cell_type": "code",
      "source": [
        "num1 = int(input(\"Enter the input:\"))\n",
        "if(num1>12):\n",
        "  print(\"num1 is good\")\n",
        "elif(num1>35):\n",
        "  print(\"num2 is not goood\")\n",
        "else:\n",
        "  print(\"num2 is great\")"
      ],
      "metadata": {
        "colab": {
          "base_uri": "https://localhost:8080/"
        },
        "id": "b_iOTTCOzijr",
        "outputId": "486e2413-f7d1-45a3-c73b-665646e47a17"
      },
      "execution_count": null,
      "outputs": [
        {
          "output_type": "stream",
          "name": "stdout",
          "text": [
            "Enter the input:11\n",
            "num2 is great\n"
          ]
        }
      ]
    },
    {
      "cell_type": "code",
      "source": [
        "from datetime import date\n",
        "class Person:\n",
        "  def __init__(self, name, age):\n",
        "    self.name = name\n",
        "    self.age = age\n",
        "  @classmethod\n",
        "  def frombirthyear(cls, name, year):\n",
        "    return cls(name, date.today().year - year)\n",
        "  @staticmethod\n",
        "  def isadult(age):\n",
        "    return age > 18\n",
        "person1 = Person('mayank',21)\n",
        "person2 = Person.frombirthyear('mayank', 1996)\n",
        "print(person1.age)\n",
        "print(person2.age)\n",
        "print(Person.isadult(22))"
      ],
      "metadata": {
        "colab": {
          "base_uri": "https://localhost:8080/"
        },
        "id": "8kVA_g-V1cWr",
        "outputId": "2536f805-af87-462c-d9c8-df254bf12530"
      },
      "execution_count": null,
      "outputs": [
        {
          "output_type": "stream",
          "name": "stdout",
          "text": [
            "21\n",
            "26\n",
            "True\n"
          ]
        }
      ]
    },
    {
      "cell_type": "markdown",
      "source": [
        "OOPs"
      ],
      "metadata": {
        "id": "CaAaAgnh8tx_"
      }
    },
    {
      "cell_type": "code",
      "source": [
        "class Person(object):\n",
        "  def __init__(self, name):\n",
        "    self.name = name\n",
        "  def getname(self):\n",
        "    return self.name\n",
        "  def isEmployee(self):\n",
        "    return False\n",
        "class Employee(Person):\n",
        "  def isEmployee(self):\n",
        "    return True\n",
        "emp = Person(\"GEEK!\")\n",
        "print(emp.getname(), emp.isEmployee())\n",
        "emp = Employee(\"GEEK2\")\n",
        "print(emp.getname(), emp.isEmployee())"
      ],
      "metadata": {
        "colab": {
          "base_uri": "https://localhost:8080/"
        },
        "id": "-GuKy4gu8wgS",
        "outputId": "fff685a4-15e7-4fe9-cd85-81b0253a7c91"
      },
      "execution_count": null,
      "outputs": [
        {
          "output_type": "stream",
          "name": "stdout",
          "text": [
            "GEEK! False\n",
            "GEEK2 True\n"
          ]
        }
      ]
    },
    {
      "cell_type": "code",
      "source": [
        "class Base1(object):\n",
        "  def __init__(self):\n",
        "    self.str1 = \"GK3\"\n",
        "    print (\"Base1\")\n",
        "class Base2(object):\n",
        "  def __init__(self):\n",
        "    self.str2 = \"GK4\"\n",
        "    print (\"BASE2\")\n",
        "class Derived(Base1, Base2):\n",
        "  def __init__(self):\n",
        "    Base1.__init__(self)\n",
        "    Base2.__init__(self)\n",
        "    print (\"Derivved\")\n",
        "  def printstrs(self):\n",
        "    print(self.str1, self.str2)\n",
        "ob = Derived()\n",
        "ob.printstrs()"
      ],
      "metadata": {
        "colab": {
          "base_uri": "https://localhost:8080/"
        },
        "id": "0Nb9bKfQATiQ",
        "outputId": "cc3e0f7c-0288-4d3f-ad94-021d8b0eb52b"
      },
      "execution_count": 1,
      "outputs": [
        {
          "output_type": "stream",
          "name": "stdout",
          "text": [
            "Base1\n",
            "BASE2\n",
            "Derivved\n",
            "GK3 GK4\n"
          ]
        }
      ]
    },
    {
      "cell_type": "markdown",
      "source": [
        "ooops "
      ],
      "metadata": {
        "id": "k86iocsG7BSc"
      }
    },
    {
      "cell_type": "code",
      "source": [
        "class computer:\n",
        "  def config(self):\n",
        "    print(\"20, 65gb, 76tb\")\n",
        "\n",
        "\n",
        "com1 = computer()\n",
        "com2 = computer()\n",
        "\n",
        "com1.config()\n",
        "com2.config()"
      ],
      "metadata": {
        "colab": {
          "base_uri": "https://localhost:8080/"
        },
        "id": "-Vj4-EIP7GaL",
        "outputId": "08c74d1e-95bf-4ee5-dc5b-808371deac08"
      },
      "execution_count": null,
      "outputs": [
        {
          "output_type": "stream",
          "name": "stdout",
          "text": [
            "20, 65gb, 76tb\n",
            "20, 65gb, 76tb\n"
          ]
        }
      ]
    },
    {
      "cell_type": "code",
      "source": [],
      "metadata": {
        "id": "zwishOF18RMg"
      },
      "execution_count": null,
      "outputs": []
    }
  ]
}