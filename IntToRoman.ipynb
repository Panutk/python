{
  "nbformat": 4,
  "nbformat_minor": 0,
  "metadata": {
    "colab": {
      "provenance": [],
      "authorship_tag": "ABX9TyNDN6yNe1/FE8NNUBXShE8t",
      "include_colab_link": true
    },
    "kernelspec": {
      "name": "python3",
      "display_name": "Python 3"
    },
    "language_info": {
      "name": "python"
    }
  },
  "cells": [
    {
      "cell_type": "markdown",
      "metadata": {
        "id": "view-in-github",
        "colab_type": "text"
      },
      "source": [
        "<a href=\"https://colab.research.google.com/github/Panutk/python/blob/main/IntToRoman.ipynb\" target=\"_parent\"><img src=\"https://colab.research.google.com/assets/colab-badge.svg\" alt=\"Open In Colab\"/></a>"
      ]
    },
    {
      "cell_type": "markdown",
      "source": [],
      "metadata": {
        "id": "xafV549Jdy5u"
      }
    },
    {
      "cell_type": "code",
      "execution_count": null,
      "metadata": {
        "colab": {
          "base_uri": "https://localhost:8080/"
        },
        "id": "bykXSxo0bTK4",
        "outputId": "e8f64e3f-bc7f-4159-f5fa-ab60e83c2a90"
      },
      "outputs": [
        {
          "output_type": "stream",
          "name": "stdout",
          "text": [
            "50\n",
            "L\n"
          ]
        }
      ],
      "source": [
        "def int_to_roman(num):\n",
        "  int_arr = [1,4,5,9,10,40,50,90,100,400,500,900,1000]\n",
        "  roman_arr = [\"I\",\"IV\",\"V\",\"IX\",\"X\",\"XL\",\"L\",\"XC\",\"C\",\"CD\",\"D\",\"CM\",\"M\"]\n",
        "  res =\"\"\n",
        "  max = 12\n",
        "\n",
        "  while int_arr[max] > num:\n",
        "    max -= 1\n",
        "  while num > 0:\n",
        "    while int_arr[max] <= num:\n",
        "      num -= int_arr[max]\n",
        "      res += roman_arr[max]\n",
        "    max -= 1\n",
        "  return res\n",
        "\n",
        "num = int(input())\n",
        "\n",
        "out_ = int_to_roman(num)\n",
        "\n",
        "print(out_)\n"
      ]
    }
  ]
}