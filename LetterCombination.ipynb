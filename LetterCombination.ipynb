{
  "nbformat": 4,
  "nbformat_minor": 0,
  "metadata": {
    "colab": {
      "provenance": [],
      "authorship_tag": "ABX9TyPkmesfqUwTHj4lqX6BIp5A",
      "include_colab_link": true
    },
    "kernelspec": {
      "name": "python3",
      "display_name": "Python 3"
    },
    "language_info": {
      "name": "python"
    }
  },
  "cells": [
    {
      "cell_type": "markdown",
      "metadata": {
        "id": "view-in-github",
        "colab_type": "text"
      },
      "source": [
        "<a href=\"https://colab.research.google.com/github/Panutk/python/blob/main/LetterCombination.ipynb\" target=\"_parent\"><img src=\"https://colab.research.google.com/assets/colab-badge.svg\" alt=\"Open In Colab\"/></a>"
      ]
    },
    {
      "cell_type": "markdown",
      "source": [
        "Given an string str containing only digits from 2 to 9. Also given maaping of Digits, such they are on a telephone. Return all possible letter combinations that the number could represent.The resultant must be in ascending order"
      ],
      "metadata": {
        "id": "uLaPLjEzDOhY"
      }
    },
    {
      "cell_type": "code",
      "execution_count": null,
      "metadata": {
        "colab": {
          "base_uri": "https://localhost:8080/"
        },
        "id": "uP9lAwvQHLQL",
        "outputId": "7f970c94-fae2-43a1-d2d7-a275b65ef1b5"
      },
      "outputs": [
        {
          "output_type": "stream",
          "name": "stdout",
          "text": [
            "68\n",
            "mt\n",
            "mu\n",
            "mv\n",
            "nt\n",
            "nu\n",
            "nv\n",
            "ot\n",
            "ou\n",
            "ov\n"
          ]
        }
      ],
      "source": [
        "def gen_strings(str,num_mapping,res,current_char,res_str):\n",
        "  if  len(res_str) == len(str):\n",
        "    res.append(res_str)\n",
        "    return\n",
        "  current_str =num_mapping.get(str[current_char])\n",
        "  for i in range(len(current_str)):\n",
        "    gen_strings(str,num_mapping,res,current_char+1,res_str+current_str[i])\n",
        "\n",
        "def all_combos (str):\n",
        "  num_mapping = {'2':\"abc\",'3':\"def\",'4':\"ghi\",'5':\"jkl\",'6':\"mno\",'7':\"pqrs\",'8':\"tuv\",'9':\"wxyz\"}\n",
        "  res=[]\n",
        "  gen_strings(str,num_mapping,res,0,\"\")\n",
        "  return res\n",
        "\n",
        "str = input()\n",
        "\n",
        "out_ = all_combos(str)\n",
        "for i_out_ in out_:\n",
        "  print(i_out_)\n"
      ]
    }
  ]
}