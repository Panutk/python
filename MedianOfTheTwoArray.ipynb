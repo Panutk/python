{
  "nbformat": 4,
  "nbformat_minor": 0,
  "metadata": {
    "colab": {
      "provenance": [],
      "authorship_tag": "ABX9TyOG7ngIJ+LnY8GM0RymhEXH",
      "include_colab_link": true
    },
    "kernelspec": {
      "name": "python3",
      "display_name": "Python 3"
    },
    "language_info": {
      "name": "python"
    }
  },
  "cells": [
    {
      "cell_type": "markdown",
      "metadata": {
        "id": "view-in-github",
        "colab_type": "text"
      },
      "source": [
        "<a href=\"https://colab.research.google.com/github/Panutk/python/blob/main/MedianOfTheTwoArray.ipynb\" target=\"_parent\"><img src=\"https://colab.research.google.com/assets/colab-badge.svg\" alt=\"Open In Colab\"/></a>"
      ]
    },
    {
      "cell_type": "markdown",
      "source": [
        "Two sorted arrays are given,Task is to find the median,if they were both a single array"
      ],
      "metadata": {
        "id": "e2vqHwG2m2J_"
      }
    },
    {
      "cell_type": "code",
      "execution_count": null,
      "metadata": {
        "colab": {
          "base_uri": "https://localhost:8080/"
        },
        "id": "QSeaTNmPmgGI",
        "outputId": "a0f069e4-336c-4e85-8b74-df2a09b8f477"
      },
      "outputs": [
        {
          "output_type": "stream",
          "name": "stdout",
          "text": [
            "3\n",
            "2 4 6\n",
            "4\n",
            "1 3 5 7\n",
            "4\n"
          ]
        }
      ],
      "source": [
        "def median_value(l1, arr1, l2, arr2):\n",
        "  steps = 0\n",
        "  mid = 0\n",
        "  prev = 0\n",
        "  start1 = 0\n",
        "  start2 = 0\n",
        "\n",
        "  while steps <= (l1 +l2)/2:\n",
        "    prev = mid\n",
        "    if start1 < l1 and start2 < l2 and arr1[start1] > arr2[start2]:\n",
        "      mid = arr2[start2]\n",
        "      start2 += 1\n",
        "    elif start1 < l1 and start2 < l2 and arr1[start1] <= arr2[start2]:\n",
        "      mid = arr1[start1]\n",
        "      start1 += 1\n",
        "    elif start1 < l1:\n",
        "      mid = arr1[start1]\n",
        "      start1 += 1\n",
        "    elif start1 < l2:\n",
        "      mid = arr2[start2]\n",
        "      start2 +=1\n",
        "    steps += 1\n",
        "\n",
        "  if (l1+l2) % 2 == 0:\n",
        "    return int(mid + prev) / 2\n",
        "  else :\n",
        "    return int(mid)\n",
        "\n",
        "l1 = int(input())\n",
        "arr1 = list(map(int, input().split()))\n",
        "l2 = int(input())\n",
        "arr2 = list(map(int, input().split()))\n",
        "\n",
        "out_ =  median_value(l1, arr1, l2, arr2)\n",
        "print(out_) "
      ]
    }
  ]
}