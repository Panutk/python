{
  "nbformat": 4,
  "nbformat_minor": 0,
  "metadata": {
    "colab": {
      "provenance": [],
      "authorship_tag": "ABX9TyMjtCu26kt+tsxWJSQvXJcs",
      "include_colab_link": true
    },
    "kernelspec": {
      "name": "python3",
      "display_name": "Python 3"
    },
    "language_info": {
      "name": "python"
    }
  },
  "cells": [
    {
      "cell_type": "markdown",
      "metadata": {
        "id": "view-in-github",
        "colab_type": "text"
      },
      "source": [
        "<a href=\"https://colab.research.google.com/github/Panutk/python/blob/main/problem2.ipynb\" target=\"_parent\"><img src=\"https://colab.research.google.com/assets/colab-badge.svg\" alt=\"Open In Colab\"/></a>"
      ]
    },
    {
      "cell_type": "markdown",
      "source": [
        "Three SORTED ARRAYS are given, TASK is to return a sorted array of elements that are common to all three arrays..\n"
      ],
      "metadata": {
        "id": "2V8rwJ9c_Fjm"
      }
    },
    {
      "cell_type": "code",
      "source": [
        "def intersect_array(n1,n2,n3,arr1,arr2,arr3):\n",
        "  x_loc = 0\n",
        "  y_loc = 0\n",
        "  z_loc = 0\n",
        "  res =[]\n",
        "  while x_loc!=n1 and y_loc!=n2 and z_loc!=n3 :\n",
        "    x = arr1[x_loc]\n",
        "    y = arr2[y_loc]\n",
        "    z = arr3[x_loc]\n",
        "    if x==y and y==z:\n",
        "      res.append(x)\n",
        "      x_loc+=1\n",
        "      y_loc+=1\n",
        "      z_loc+=1\n",
        "    elif x<=y and x<=z:\n",
        "      x_loc+=1\n",
        "    elif y<=x and y<=z:\n",
        "      y_loc+=1\n",
        "    else:\n",
        "      z_loc+=1\n",
        "  return res\n",
        "\n",
        "n1 = int(input())\n",
        "n2 = int(input())\n",
        "n3 = int(input())\n",
        "arr1 = list(map(int,input().split()))\n",
        "arr2 = list(map(int,input().split()))\n",
        "arr3 = list(map(int,input().split()))\n",
        "\n",
        "out_ = intersect_array(n1,n2,n3,arr1,arr2,arr3)\n",
        "print(' '.join(map(str, out_)))"
      ],
      "metadata": {
        "colab": {
          "base_uri": "https://localhost:8080/"
        },
        "id": "ROJIDceP_smO",
        "outputId": "9bba8a9f-39d5-4b95-821f-8314b6c09b9c"
      },
      "execution_count": 4,
      "outputs": [
        {
          "output_type": "stream",
          "name": "stdout",
          "text": [
            "3\n",
            "3\n",
            "3\n",
            "1 2 3\n",
            "2 3 4\n",
            "1 2 3\n",
            "2 3\n"
          ]
        }
      ]
    }
  ]
}