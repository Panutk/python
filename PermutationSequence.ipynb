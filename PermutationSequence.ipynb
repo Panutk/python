{
  "nbformat": 4,
  "nbformat_minor": 0,
  "metadata": {
    "colab": {
      "provenance": [],
      "authorship_tag": "ABX9TyPTXpdHNhIoUiiXYKaDOKxz",
      "include_colab_link": true
    },
    "kernelspec": {
      "name": "python3",
      "display_name": "Python 3"
    },
    "language_info": {
      "name": "python"
    }
  },
  "cells": [
    {
      "cell_type": "markdown",
      "metadata": {
        "id": "view-in-github",
        "colab_type": "text"
      },
      "source": [
        "<a href=\"https://colab.research.google.com/github/Panutk/python/blob/main/PermutationSequence.ipynb\" target=\"_parent\"><img src=\"https://colab.research.google.com/assets/colab-badge.svg\" alt=\"Open In Colab\"/></a>"
      ]
    },
    {
      "cell_type": "markdown",
      "source": [
        "Given an integer n, There are total n! permutation.\n",
        "You are also given a number k, assuming the permutations are in ascending order, return the Kth permutation as a string."
      ],
      "metadata": {
        "id": "9s4GEU24kIFU"
      }
    },
    {
      "cell_type": "code",
      "source": [
        "def fact(n):\n",
        "  p = 1\n",
        "  while n > 1:\n",
        "    p *= n\n",
        "    n -= 1\n",
        "  return p\n",
        "\n",
        "def Kth_combi (n, k):\n",
        "  arr = [(i+1) for i in range(n)]\n",
        "  k -= 1\n",
        "  res = \"\"\n",
        "  while len(arr) > 0:\n",
        "    div = fact(len(arr)-1)\n",
        "    delete_pos = k/div\n",
        "    res += str(arr[delete_pos])\n",
        "    arr.pop(delete_pos)\n",
        "    k %= div\n",
        "  return res\n",
        "  pass\n",
        "\n",
        "n = input()\n",
        "k = input()\n",
        "\n",
        "out_ = Kth_combi(n, k)\n",
        "print(out_)"
      ],
      "metadata": {
        "id": "8Jg5pGjktg3g"
      },
      "execution_count": null,
      "outputs": []
    }
  ]
}