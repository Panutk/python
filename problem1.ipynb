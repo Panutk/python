{
  "nbformat": 4,
  "nbformat_minor": 0,
  "metadata": {
    "colab": {
      "provenance": [],
      "authorship_tag": "ABX9TyO7oEfh5ZMFhV37l8uUhp99",
      "include_colab_link": true
    },
    "kernelspec": {
      "name": "python3",
      "display_name": "Python 3"
    },
    "language_info": {
      "name": "python"
    }
  },
  "cells": [
    {
      "cell_type": "markdown",
      "metadata": {
        "id": "view-in-github",
        "colab_type": "text"
      },
      "source": [
        "<a href=\"https://colab.research.google.com/github/Panutk/python/blob/main/problem1.ipynb\" target=\"_parent\"><img src=\"https://colab.research.google.com/assets/colab-badge.svg\" alt=\"Open In Colab\"/></a>"
      ]
    },
    {
      "cell_type": "code",
      "execution_count": null,
      "metadata": {
        "id": "sPI1-U597scv"
      },
      "outputs": [],
      "source": []
    },
    {
      "cell_type": "markdown",
      "source": [
        "without creating new array sort an array consisiting ZEROS, ONES and TWOS"
      ],
      "metadata": {
        "id": "deYVRlcy7y9I"
      }
    },
    {
      "cell_type": "code",
      "source": [
        "def sort_it_up (n,arr):\n",
        "  l_bound = 0\n",
        "  r_bound = n - 1\n",
        "  i = 0\n",
        "  while i<= r_bound:\n",
        "    if arr[i] ==2:\n",
        "      arr[i] = arr[r_bound]\n",
        "      arr[r_bound] = 2\n",
        "      r_bound -= 1\n",
        "    elif arr[i] ==1:\n",
        "      i += 1\n",
        "    else:\n",
        "      arr[i] = arr[l_bound]\n",
        "      arr[l_bound] = 0\n",
        "      l_bound += 1\n",
        "      i += 1\n",
        "  return arr\n",
        "n = int(input())\n",
        "arr = list(map(int,input().split()))\n",
        "\n",
        "out_ = sort_it_up(n, arr)\n",
        "print(' '.join(map(str, out_)))"
      ],
      "metadata": {
        "colab": {
          "base_uri": "https://localhost:8080/"
        },
        "id": "juvYmd1i8p7Z",
        "outputId": "f92e1289-5d27-436d-d08b-f7b0b5fedfc6"
      },
      "execution_count": 2,
      "outputs": [
        {
          "output_type": "stream",
          "name": "stdout",
          "text": [
            "5\n",
            "2 0 1 0 2\n",
            "0 0 1 2 2\n"
          ]
        }
      ]
    }
  ]
}