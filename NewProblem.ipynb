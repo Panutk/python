{
  "nbformat": 4,
  "nbformat_minor": 0,
  "metadata": {
    "colab": {
      "provenance": [],
      "authorship_tag": "ABX9TyPQu8/iD24j7ZsdzaLhyTQF",
      "include_colab_link": true
    },
    "kernelspec": {
      "name": "python3",
      "display_name": "Python 3"
    },
    "language_info": {
      "name": "python"
    }
  },
  "cells": [
    {
      "cell_type": "markdown",
      "metadata": {
        "id": "view-in-github",
        "colab_type": "text"
      },
      "source": [
        "<a href=\"https://colab.research.google.com/github/Panutk/python/blob/main/NewProblem.ipynb\" target=\"_parent\"><img src=\"https://colab.research.google.com/assets/colab-badge.svg\" alt=\"Open In Colab\"/></a>"
      ]
    },
    {
      "cell_type": "markdown",
      "source": [
        "Given n integers in an array, such that the index represents its position on the x-axis and the value represents the height of the line on the y-axis. Task is to find the maximum possible area of water that can be containedbetween two lines\n",
        "NOTE : HEIGHT of the water level is equal to the HEIGHT of the smaller line"
      ],
      "metadata": {
        "id": "vZLU0c8Nm6eu"
      }
    },
    {
      "cell_type": "code",
      "execution_count": null,
      "metadata": {
        "colab": {
          "base_uri": "https://localhost:8080/"
        },
        "id": "jU8O9gBRkFEk",
        "outputId": "3ec4bce9-538b-488e-bbb9-2886c604e61b"
      },
      "outputs": [
        {
          "output_type": "stream",
          "name": "stdout",
          "text": [
            "5\n",
            "1 2 5 3 3\n",
            "6\n"
          ]
        }
      ],
      "source": [
        "def water_container (n, arr):\n",
        "  start = 0\n",
        "  end = n-1\n",
        "  max_area = 0\n",
        "  while start<end:\n",
        "    width = end-start\n",
        "    area = width * min(arr[start], arr[end])\n",
        "    max_area = max(area, max_area)\n",
        "    if arr[start] < arr[end]:\n",
        "      ptr = start\n",
        "      d = 1\n",
        "    else :\n",
        "      ptr = end\n",
        "      d = -1\n",
        "    while ptr>=start and ptr<= end and arr[ptr] > arr[ptr+d]:\n",
        "      ptr+=d\n",
        "    ptr+=d\n",
        "    if d==1:\n",
        "      start = ptr\n",
        "    else:\n",
        "      end = ptr\n",
        "  return max_area\n",
        "\n",
        "n = int (input())\n",
        "arr = list(map(int, input().split()))\n",
        "\n",
        "out_ = water_container(n, arr)\n",
        "print(out_)"
      ]
    }
  ]
}